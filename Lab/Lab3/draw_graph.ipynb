{
 "cells": [
  {
   "cell_type": "code",
   "execution_count": 1,
   "metadata": {},
   "outputs": [],
   "source": [
    "import time\n",
    "from random import randint\n",
    "import matplotlib.pyplot as plt\n",
    "%matplotlib inline"
   ]
  },
  {
   "cell_type": "markdown",
   "metadata": {},
   "source": [
    "### Bubble Sort"
   ]
  },
  {
   "cell_type": "code",
   "execution_count": null,
   "metadata": {},
   "outputs": [],
   "source": [
    "def bubbleSort(arr):\n",
    "    n = len(arr)\n",
    "    for i in range(0, n - 1):\n",
    "        for j in range(0, n - i - 1):\n",
    "            if arr[j] > arr[j + 1]:\n",
    "                (arr[j], arr[j+1]) = (arr[j+1], arr[j])\n",
    "\n",
    "\n",
    "elements = []\n",
    "times = []\n",
    "\n",
    "for i in range(1, 10):\n",
    "    arr = [randint(0, 10000) for i in range(0, 10000*i)]\n",
    "    start = time.time()\n",
    "    bubbleSort(arr)\n",
    "    end = time.time()\n",
    "    print(len(arr), \"Elements sorted by Bubble Sort in:\", end-start)\n",
    "    elements.append(len(arr))\n",
    "    times.append(end-start)\n",
    "\n",
    "for i in range(1, 6):\n",
    "    arr = [randint(0, 100000) for i in range(0, 100000*i)]\n",
    "    start = time.time()\n",
    "    bubbleSort(arr)\n",
    "    end = time.time()\n",
    "    print(len(arr), \"Elements sorted by Bubble Sort in:\", end-start)\n",
    "    elements.append(len(arr))\n",
    "    times.append(end-start)\n",
    "# Plot the graph\n",
    "plt.xlabel(\"No. of elements\")\n",
    "plt.ylabel(\"Time required\")\n",
    "plt.plot(elements, times, label='Heap Sort')\n",
    "plt.grid()\n",
    "plt.legend()\n",
    "plt.show()"
   ]
  },
  {
   "cell_type": "markdown",
   "metadata": {},
   "source": [
    "### Heap Sort"
   ]
  },
  {
   "cell_type": "code",
   "execution_count": 24,
   "metadata": {},
   "outputs": [
    {
     "name": "stdout",
     "output_type": "stream",
     "text": [
      "10000 Elements sorted by Heap Sort in: 0.05382370948791504\n",
      "20000 Elements sorted by Heap Sort in: 0.11189460754394531\n",
      "30000 Elements sorted by Heap Sort in: 0.18251299858093262\n",
      "40000 Elements sorted by Heap Sort in: 0.24936366081237793\n",
      "50000 Elements sorted by Heap Sort in: 0.35804152488708496\n",
      "60000 Elements sorted by Heap Sort in: 0.3949711322784424\n",
      "70000 Elements sorted by Heap Sort in: 0.4697151184082031\n",
      "80000 Elements sorted by Heap Sort in: 0.5544874668121338\n",
      "90000 Elements sorted by Heap Sort in: 0.6352994441986084\n",
      "100000 Elements sorted by Heap Sort in: 0.6921489238739014\n",
      "200000 Elements sorted by Heap Sort in: 1.5528461933135986\n",
      "300000 Elements sorted by Heap Sort in: 2.3876447677612305\n",
      "400000 Elements sorted by Heap Sort in: 3.3041839599609375\n",
      "500000 Elements sorted by Heap Sort in: 4.241647958755493\n"
     ]
    },
    {
     "data": {
      "image/png": "[encoded data removed]",
      "text/plain": [
       "<Figure size 432x288 with 1 Axes>"
      ]
     },
     "metadata": {
      "needs_background": "light"
     },
     "output_type": "display_data"
    }
   ],
   "source": [
    "def heapify(arr, n, i):\n",
    "    largest = i # Initialize largest as root\n",
    "    l = 2 * i + 1 # left = 2*i + 1\n",
    "    r = 2 * i + 2 # right = 2*i + 2\n",
    "    if l < n and arr[i] < arr[l]:\n",
    "        largest = l\n",
    "    if r < n and arr[largest] < arr[r]:\n",
    "        largest = r\n",
    "    if largest != i:\n",
    "        arr[i],arr[largest] = arr[largest],arr[i] # swap\n",
    "        heapify(arr, n, largest)\n",
    "\n",
    "\n",
    "def heapSort(arr):\n",
    "    n = len(arr)\n",
    "\n",
    "    for i in range(n // 2 - 1, -1, -1):\n",
    "        heapify(arr, n, i)\n",
    "\n",
    "    for i in range(n-1, 0, -1):\n",
    "        arr[i], arr[0] = arr[0], arr[i] # swap\n",
    "        heapify(arr, i, 0)\n",
    "\n",
    "elements = []\n",
    "times = []\n",
    "\n",
    "for i in range(1, 10):\n",
    "    arr = [randint(0, 10000) for i in range(0, 10000*i)]\n",
    "    start = time.time()\n",
    "    heapSort(arr)\n",
    "    end = time.time()\n",
    "    print(len(arr), \"Elements sorted by Heap Sort in:\", end-start)\n",
    "    elements.append(len(arr))\n",
    "    times.append(end-start)\n",
    "\n",
    "for i in range(1, 6):\n",
    "    arr = [randint(0, 100000) for i in range(0, 100000*i)]\n",
    "    start = time.time()\n",
    "    heapSort(arr)\n",
    "    end = time.time()\n",
    "    print(len(arr), \"Elements sorted by Heap Sort in:\", end-start)\n",
    "    elements.append(len(arr))\n",
    "    times.append(end-start)\n",
    "# Plot the graph\n",
    "plt.xlabel(\"No. of elements\")\n",
    "plt.ylabel(\"Time required\")\n",
    "plt.plot(elements, times, label='Heap Sort')\n",
    "plt.grid()\n",
    "plt.legend()\n",
    "plt.show()"
   ]
  },
  {
   "cell_type": "markdown",
   "metadata": {},
   "source": [
    "### Merge Sort"
   ]
  },
  {
   "cell_type": "code",
   "execution_count": 25,
   "metadata": {},
   "outputs": [
    {
     "name": "stdout",
     "output_type": "stream",
     "text": [
      "10000 Elements sorted by Merge Sort in: 0.0578455924987793\n",
      "20000 Elements sorted by Merge Sort in: 0.09075546264648438\n",
      "30000 Elements sorted by Merge Sort in: 0.14063072204589844\n",
      "40000 Elements sorted by Merge Sort in: 0.19148921966552734\n",
      "50000 Elements sorted by Merge Sort in: 0.24335074424743652\n",
      "60000 Elements sorted by Merge Sort in: 0.2962071895599365\n",
      "70000 Elements sorted by Merge Sort in: 0.3480408191680908\n",
      "80000 Elements sorted by Merge Sort in: 0.40192675590515137\n",
      "90000 Elements sorted by Merge Sort in: 0.471738338470459\n",
      "100000 Elements sorted by Merge Sort in: 0.5225751399993896\n"
     ]
    },
    {
     "data": {
      "image/png": "[encoded data removed]",
      "text/plain": [
       "<Figure size 432x288 with 1 Axes>"
      ]
     },
     "metadata": {
      "needs_background": "light"
     },
     "output_type": "display_data"
    }
   ],
   "source": [
    "def mergeSort(arr):\n",
    "    if len(arr) > 1:\n",
    "        mid = len(arr)//2\n",
    "        L = arr[:mid]\n",
    "        R = arr[mid:]\n",
    "        mergeSort(L)\n",
    "        mergeSort(R)\n",
    "\n",
    "        i = j = k = 0\n",
    "        while i < len(L) and j < len(R):\n",
    "            if L[i] < R[j]:\n",
    "                arr[k] = L[i]\n",
    "                i += 1\n",
    "            else:\n",
    "                arr[k] = R[j]\n",
    "                j += 1\n",
    "            k += 1\n",
    "        while i < len(L):\n",
    "            arr[k] = L[i]\n",
    "            i += 1\n",
    "            k += 1\n",
    "\n",
    "        while j < len(R):\n",
    "            arr[k] = R[j]\n",
    "            j += 1\n",
    "            k += 1\n",
    "\n",
    "elements = []\n",
    "times = []\n",
    "\n",
    "for i in range(1, 11):\n",
    "    arr = [randint(0, 10000) for i in range(0, 10000*i)]\n",
    "    start = time.time()\n",
    "    mergeSort(arr)\n",
    "    end = time.time()\n",
    "    print(len(arr), \"Elements sorted by Merge Sort in:\", end-start)\n",
    "    elements.append(len(arr))\n",
    "    times.append(end-start)\n",
    "\n",
    "# Plot the graph\n",
    "plt.xlabel(\"No. of elements\")\n",
    "plt.ylabel(\"Time required\")\n",
    "plt.plot(elements, times, label='Merge Sort')\n",
    "plt.grid()\n",
    "plt.legend()\n",
    "plt.show()"
   ]
  },
  {
   "cell_type": "markdown",
   "metadata": {},
   "source": [
    "### Quick Sort"
   ]
  },
  {
   "cell_type": "code",
   "execution_count": 26,
   "metadata": {},
   "outputs": [
    {
     "name": "stdout",
     "output_type": "stream",
     "text": [
      "10000 Elements sorted by Quick Sort in: 0.030915021896362305\n",
      "20000 Elements sorted by Quick Sort in: 0.08776593208312988\n",
      "30000 Elements sorted by Quick Sort in: 0.08975958824157715\n",
      "40000 Elements sorted by Quick Sort in: 0.1336688995361328\n",
      "50000 Elements sorted by Quick Sort in: 0.1446394920349121\n",
      "60000 Elements sorted by Quick Sort in: 0.1934821605682373\n",
      "70000 Elements sorted by Quick Sort in: 0.21340394020080566\n",
      "80000 Elements sorted by Quick Sort in: 0.27227187156677246\n",
      "90000 Elements sorted by Quick Sort in: 0.2902243137359619\n",
      "100000 Elements sorted by Quick Sort in: 0.3600616455078125\n"
     ]
    },
    {
     "data": {
      "image/png": "[encoded data removed]",
      "text/plain": [
       "<Figure size 432x288 with 1 Axes>"
      ]
     },
     "metadata": {
      "needs_background": "light"
     },
     "output_type": "display_data"
    }
   ],
   "source": [
    "def partition(arr, low, high):\n",
    "    pivot = arr[high]\n",
    "    i = low - 1\n",
    "\n",
    "    for j in range(low, high):\n",
    "        if arr[j] <= pivot:\n",
    "            i += 1\n",
    "        (arr[i], arr[j]) = (arr[j], arr[i])\n",
    "\n",
    "    (arr[i + 1], arr[high]) = (arr[high], arr[i + 1])\n",
    "    return i + 1\n",
    "\n",
    "def quickSort(arr, low, high):\n",
    "    if low < high:\n",
    "        pi = partition(arr, low, high)\n",
    "        quickSort(arr, low, pi - 1)\n",
    "        quickSort(arr, pi + 1, high)\n",
    "    \n",
    "elements = []\n",
    "times = []\n",
    "\n",
    "for i in range(1, 11):\n",
    "    arr = [randint(0, 10000) for i in range(0, 10000*i)]\n",
    "    start = time.time()\n",
    "    quickSort(arr, 0, len(arr) - 1)\n",
    "    end = time.time()\n",
    "    print(len(arr), \"Elements sorted by Quick Sort in:\", end-start)\n",
    "    elements.append(len(arr))\n",
    "    times.append(end-start)\n",
    "\n",
    "# Plot the graph\n",
    "plt.xlabel(\"No. of elements\")\n",
    "plt.ylabel(\"Time required\")\n",
    "plt.plot(elements, times, label='Quick Sort')\n",
    "plt.grid()\n",
    "plt.legend()\n",
    "plt.show()"
   ]
  }
 ],
 "metadata": {
  "interpreter": {
   "hash": "01270fed4ef00248fd8b14e6749028f3bb760b8e8ec329a6b6a1a384c89fe617"
  },
  "kernelspec": {
   "display_name": "Python 3.7.11 ('{tunglam}')",
   "language": "python",
   "name": "python3"
  },
  "language_info": {
   "codemirror_mode": {
    "name": "ipython",
    "version": 3
   },
   "file_extension": ".py",
   "mimetype": "text/x-python",
   "name": "python",
   "nbconvert_exporter": "python",
   "pygments_lexer": "ipython3",
   "version": "3.7.11"
  },
  "orig_nbformat": 4
 },
 "nbformat": 4,
 "nbformat_minor": 2
}
